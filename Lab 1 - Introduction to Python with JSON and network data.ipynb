{
 "cells": [
  {
   "cell_type": "markdown",
   "metadata": {},
   "source": [
    "<br><br>\n",
    "## <center>Lab 1 - Some basics and exploring social network data</center> ##\n",
    "<br>\n",
    "<br>\n",
    "This notebook guides you through process of loading and analyzing real (but anonymized) Facebook data. The two goals for the notebook are to give you a better idea of the workflow for doing data analysis with Python and to introduce you to a \"big data\" type data source. In particular, we'll focus on networks because they go hand-in-hand with the big data movement. We aren't using your own live Facebook data because the Facebook API (system for accessing their databases) much more aggressively limits what data we can get. Yay for privacy! Too bad for us big data nerds:(\n",
    "\n",
    "In order to be able to use this notebook, you need the Facebook_Lab.py file and the data files, named `#_data.json` (where # is some number between 1 and 5). You should have got these files when you downloaded the folder this notebook is in. If you are getting import or file not found errors, make sure you have those files.\n",
    "<br><br>\n",
    "\n",
    "This is the structure of this session:\n",
    "    - Quick intro in the JSON file format\n",
    "    - Super quick Facebook refresher \n",
    "    - Loading JSON formatted Facebook data\n",
    "    - Putting the data into a PANDAS dataframe\n",
    "    - Plotting networks\n",
    "    - Measuring network attributes"
   ]
  },
  {
   "cell_type": "markdown",
   "metadata": {},
   "source": [
    "#### A few things about this notebook before we begin\n",
    "\n",
    "* The module/package Facebook_Lab has functions that do a lot of behind the scenes processing. If you want to see the details, you should open up that file in a text editor or an integrated development environment (IDE).\n",
    "    <br><br>\n",
    "* There are occasionally snippets of code that are commented out with a hashtag (`#`) in front of them. Removing the hashtag and any extra spaces will make that code live as well. This is a convenient way to experiment with different options without having delete and rewrite lines of code all the time.\n",
    "<br>\n",
    "<br>\n"
   ]
  },
  {
   "cell_type": "markdown",
   "metadata": {},
   "source": [
    "<br><br>\n",
    "### Topic 1: the JSON format \n",
    "\n",
    "A common way to get data from webpages is through an application programming interface, commonly called an API. Some sites maintain APIs for users who need to send/receive lots of data to/from the site's servers or need to do it algorithmically. When a financial site is displaying stock prices, it is algorithmically updating from something like Bloomberg's or NASDAQ's quote APIs. Alternatively, major record labels will use an API to upload songs or download information about plays from Spotify. In most cases you need to apply and pay for special permissions to use APIs. The most common exception is Twitter and that is an important reason it has been so popular in social science research.\n",
    "\n",
    "A common format for API data is the *JSON* (JavaScript Object Notation) format. A *JSON* formatted file is human-readable and ends with *.json*. At this point, the format's only meaningful connection to its namesake JavaScript is that it is built around the concept of *objects*, which is at the core of the object-oriented programming paradigm that Java helped popularized. This matters to us only in that thinking in terms of objects is helpful for a lot of big data research.\n",
    "\n",
    "Consider a tweet:\n",
    "<blockquote class=\"twitter-tweet\" data-lang=\"en\"><p lang=\"en\" dir=\"ltr\">I had to fire General Flynn because he lied to the Vice President and the FBI. He has pled guilty to those lies. It is a shame because his actions during the transition were lawful. There was nothing to hide!</p>&mdash; Donald J. Trump (@realDonaldTrump) <a href=\"https://twitter.com/realDonaldTrump/status/937007006526959618?ref_src=twsrc%5Etfw\">December 2, 2017</a></blockquote>\n",
    "<script async src=\"https://platform.twitter.com/widgets.js\" charset=\"utf-8\"></script>\n",
    "\n",
    "\n",
    "<br>\n",
    "In our daily lives, we view a tweet as a (very) short piece of text but there is a lot more to a tweet. Below is the JSON representation for the same tweet. \n",
    "<br><br>\n",
    "\n",
    "<code> {'created_at': 'Sat Dec 02 17:14:13 +0000 2017',\n",
    "        'id': 937007006526959618,\n",
    "        'id_str': '937007006526959618',\n",
    "         'text': 'I had to fire General Flynn because he lied to the Vice President and the FBI. He has pled guilty to those lies. It… https://t.co/8bMCLGuAhf',\n",
    "         'truncated': True, \n",
    "         'entities': \n",
    "             {'hashtags': [],\n",
    "             'symbols': [],\n",
    "             'user_mentions': [],\n",
    "             'urls': [\n",
    "                {'url': 'https://t.co/8bMCLGuAhf',\n",
    "                'expanded_url': 'https://twitter.com/i/web/status/937007006526959618',\n",
    "                'display_url': 'twitter.com/i/web/status/9…',\n",
    "                'indices': [117, 140]}\n",
    "              ]\n",
    "              }, \n",
    "         'source': '<a href=\"http://twitter.com/download/iphone\" rel=\"nofollow\">Twitter for iPhone</a>',\n",
    "         'in_reply_to_status_id': None,\n",
    "         'in_reply_to_status_id_str': None,\n",
    "         'in_reply_to_user_id': None,\n",
    "         'in_reply_to_user_id_str': None,\n",
    "         'in_reply_to_screen_name': None, \n",
    "         'user': \n",
    "             {'id': 25073877, \n",
    "             'id_str': '25073877',\n",
    "             'name': 'Donald J. Trump',\n",
    "             'screen_name': 'realDonaldTrump',\n",
    "             'location': 'Washington, DC',\n",
    "             'description': '45th President of the United States of America🇺🇸',\n",
    "             'url': 'https://t.co/OMxB0x7xC5',\n",
    "             'entities':\n",
    "                 {'url': \n",
    "                     {'urls': [\n",
    "                         {'url': 'https://t.co/OMxB0x7xC5',\n",
    "                         'expanded_url': 'http://www.Instagram.com/realDonaldTrump',\n",
    "                         'display_url': 'Instagram.com/realDonaldTrump',\n",
    "                         'indices': [0, 23]}\n",
    "                         ]\n",
    "                      },\n",
    "                  'description': \n",
    "                      {'urls': []}\n",
    "                   },\n",
    "              'protected': False,\n",
    "              'followers_count': 46576912,\n",
    "              'friends_count': 45,\n",
    "              'listed_count': 83700,\n",
    "              'created_at': 'Wed Mar 18 13:46:38 +0000 2009',\n",
    "              'favourites_count': 24,\n",
    "              'utc_offset': -18000,\n",
    "              'time_zone': 'Eastern Time (US & Canada)',\n",
    "              'geo_enabled': True,\n",
    "              'verified': True,\n",
    "              'statuses_count': 36761,\n",
    "              'lang': 'en',\n",
    "              'contributors_enabled': False,\n",
    "              'is_translator': False,\n",
    "              'is_translation_enabled': True,\n",
    "              'profile_background_color': '6D5C18',\n",
    "              'profile_background_image_url': 'http://pbs.twimg.com/profile_background_images/530021613/trump_scotland__43_of_70_cc.jpg',\n",
    "              'profile_background_image_url_https': 'https://pbs.twimg.com/profile_background_images/530021613/trump_scotland__43_of_70_cc.jpg',\n",
    "              'profile_background_tile': True, \n",
    "              'profile_image_url': 'http://pbs.twimg.com/profile_images/874276197357596672/kUuht00m_normal.jpg',\n",
    "              'profile_image_url_https': 'https://pbs.twimg.com/profile_images/874276197357596672/kUuht00m_normal.jpg',\n",
    "              'profile_banner_url': 'https://pbs.twimg.com/profile_banners/25073877/1515478614',\n",
    "              'profile_link_color': '1B95E0',\n",
    "              'profile_sidebar_border_color': 'BDDCAD',\n",
    "              'profile_sidebar_fill_color': 'C5CEC0',\n",
    "              'profile_text_color': '333333',\n",
    "              'profile_use_background_image': True,\n",
    "              'has_extended_profile': False,\n",
    "              'default_profile': False,\n",
    "              'default_profile_image': False,\n",
    "              'following': False, 'follow_request_sent': False,\n",
    "              'notifications': False,\n",
    "              'translator_type': 'regular'},\n",
    "          'geo': None, \n",
    "          'coordinates': None,\n",
    "          'place': None,\n",
    "          'contributors': None,\n",
    "          'is_quote_status': False,\n",
    "          'retweet_count': 31599,\n",
    "          'favorite_count': 116375,\n",
    "          'favorited': False,\n",
    "          'retweeted': False, \n",
    "          'lang': 'en'}</code>\n",
    "<br><br>\n",
    "\n",
    "As you can see, whatever a Tweet is, it is complex thing. (Can you even find the text of the tweet that actually shows up on your tweetbox?) What is clear is it exists in a set of relationships. And if there are relationships, there must be things being related. So let's just call those things *objects* to be stay generic as possible. \n",
    "\n",
    "In object-oriented programming (OO), objects are a collection of *fields* (or attributes) and *methods*, procedures to modify the fields. The essense of an *OO* program is the design of the objects and manipulation of them via methods. (OK, and a bunch of stuff we won't get into.) To do something with objects, we need to know a lot about them, but if we are just moving them around as we are when collecting data, we just need the names of the fields and their contents. So we need a file format that can keep track of attributes of objects.\n",
    "\n",
    "Maybe just a standard spreadsheet (.csv, .xls) you're probably intimately familiar with could work? A row for each observation can work fine for keeping track of an observation and its attributes, but what if an attribute is a reference to something other than another observation of the same type? That is, to another type of object? There is a good chance we'll want to know more about those other objects so we want its attributes too. Unfortunately, a spreadsheet isn't very convenient for transporting that type of information. The JSON format can help us address this problem and that's why lots of data rich APIs use them.\n",
    "\n",
    "Going back the tweet above, you can see that this record of a single tweet contains references to lots of other objects, each with it's own attributes. They are indented and encased in curly brackets {}. Examples are the posting user, \"entities\", and urls.\n",
    "\n",
    "It's having this type of data that makes big data interesting\\* to social scientists in my opinion. These data offer a \n",
    "chance to understand the rich, relational context of the observations. We can track them through time better too. The existence of this rich data can make managing all of it challenging (we have more than a spreadsheet can contain, but we also don't have a nice clean spreadsheet!). The benefits far outpace the problems!\n",
    "<br>\n",
    "<Br>\n",
    "\n",
    "\\*Unless you just want a [large N sample to ensure significant (i.e. publishable) p-values](https://www.youtube.com/watch?v=0pQ3AQ8olEo) (see [Granger 1998](http://onlinelibrary.wiley.com/doi/10.1111/1467-9574.00084/abstract)). \n",
    "\n",
    "<br>"
   ]
  },
  {
   "cell_type": "markdown",
   "metadata": {},
   "source": [
    "If you continue doing big data research, you'll encounter other formats, but JSON is a good starting point. You'll have a chance to collect live Twitter data in the next tutorial, but to first get you more familiar with Python and the general workflow, we'll start with some limited, but real Facebook data."
   ]
  },
  {
   "cell_type": "markdown",
   "metadata": {},
   "source": [
    "<br><br>\n",
    "### Topic 2: Facebook data\n",
    "\n",
    "Facebook is a great big data source because it has a diverse user base and a variety of data types. A couple years ago it was a fantastic resource for some introspective research about the shape and composition of your network, but they changed the privacy settings of the API so that we can't get the data. Even the very cool Wolfram Alpha tool has [been shut down](http://company.wolfram.com/news/2015/wolframalpha-personal-analytics-for-facebook-last-chance-to-analyze-your-friend-network/).\n",
    "\n",
    "<br>\n",
    "\n",
    "Instead we'll use some networks I saved (and anonymized) in order to practice loading JSON formatted data into a `Pandas` data structure so that we can run queries and produce results. `Pandas` is a package for creating databases in python. It has gained a wide acceptance in spite of not always being intuitive because it can be very powerful. You'll see just a bit of its basic functionality here, but it is worthy of its own full length tutorial.\n",
    "\n",
    "\n",
    "The Facebook Restful API responds with JSON formatted data and I've cleaned the data up and stored them .json files. \n",
    "\n",
    "This is what a single entry looks like:\n",
    "\n",
    "<code>{\n",
    " \"gender\": \"female\", \n",
    " \"id\": 15, \n",
    " \"name\": \"RM\",\n",
    " \"mutuals\": \"[8, 29, 66, 75, 100, 139, 155, 160, 194, 218, 286, 299, 322]\",\n",
    " \"known from\": 4\n",
    "}</code>\n",
    "\n",
    "A typical JSON file will have lots of entries seperated by commas. If you want to see one, open up the file <code>1_data.json</code> in a text editor.\n",
    "\n",
    "\n",
    "Now let's go through this entry and explain the fields:\n",
    "\n",
    "- gender: The user specified gender. The possible values are male, female, or None (because Facebook doesn't require you to provide one.\n",
    "- id: A unique number identifying the user. 1 is saved for the user whose network we are looking at (called the ego in network science).\n",
    "- name: The initials of the user.\n",
    "- mutuals: The list of IDs for the friends this user has in common with the Ego (i.e. mutual friends).\n",
    "- known from: A categorical variable identifying where the Ego (the person whose Facebook network it is) knows this user from. The users hand coded the data in for me.\n",
    "\n",
    "This is only a sliver of the data fields Facebook used to provide (plus a custom variable `[known from]`), but we can do a lot with these once we have a bunch of them into Python's memory. Let's do that now.\n",
    "\n",
    "\n",
    "\n"
   ]
  },
  {
   "cell_type": "markdown",
   "metadata": {},
   "source": [
    "<br>\n",
    "<br>\n",
    "### Topic 3: Loading the Facebook data\n",
    "\n",
    "To get entries into memory, we'll use a very convenient Python module called <code>json</code>. Let's import it on the next line."
   ]
  },
  {
   "cell_type": "code",
   "execution_count": null,
   "metadata": {
    "collapsed": true
   },
   "outputs": [],
   "source": [
    "import json"
   ]
  },
  {
   "cell_type": "markdown",
   "metadata": {},
   "source": [
    "<code>json</code> can encode Python data structures into JSON formatted text and visa versa. To do this file writing and reading, it makes use of Python's standard file I/O (input/output) tools. The next line uses the I/O function <code>open()</code> to open the given file in the read mode. This is because we used the \"r\" argument. If we want to be able to write, we'd use \"w\" to (over)write a new file or \"a\" to append to the end of an existing file. "
   ]
  },
  {
   "cell_type": "code",
   "execution_count": null,
   "metadata": {
    "collapsed": true
   },
   "outputs": [],
   "source": [
    "reader = open(\"data/1_data.json\", \"r\")"
   ]
  },
  {
   "cell_type": "markdown",
   "metadata": {},
   "source": [
    "We now have a reader (which I've named <code>reader</code>) attached to the file. The reader has functions (e.g. <code>reader.read()</code> and <code>reader.readline()</code>) that lets us read what is in the file. We don't use them here; instead we just pass the whole reader to the <code>json</code> module and it calls them as it. We let <code>json</code> read in the whole file on the next line."
   ]
  },
  {
   "cell_type": "code",
   "execution_count": null,
   "metadata": {},
   "outputs": [],
   "source": [
    "our_data = json.load(reader)"
   ]
  },
  {
   "cell_type": "markdown",
   "metadata": {},
   "source": [
    "Let's see what json did with the data by asking the type of object <code>our_data</code> is."
   ]
  },
  {
   "cell_type": "code",
   "execution_count": null,
   "metadata": {
    "collapsed": true
   },
   "outputs": [],
   "source": [
    "print(type(our_data))"
   ]
  },
  {
   "cell_type": "markdown",
   "metadata": {},
   "source": [
    "Great! You know what we can do with a Python dictionary. Let's look at what keys are in the dictionary."
   ]
  },
  {
   "cell_type": "code",
   "execution_count": null,
   "metadata": {
    "collapsed": true
   },
   "outputs": [],
   "source": [
    "our_data.keys()"
   ]
  },
  {
   "cell_type": "code",
   "execution_count": null,
   "metadata": {
    "collapsed": true
   },
   "outputs": [],
   "source": [
    "print(type(our_data['users']))"
   ]
  },
  {
   "cell_type": "markdown",
   "metadata": {},
   "source": [
    "Well, it's pretty boring. That's because our .json file must have only one kind of object in it. Let's see what's in the list."
   ]
  },
  {
   "cell_type": "code",
   "execution_count": null,
   "metadata": {
    "collapsed": true
   },
   "outputs": [],
   "source": [
    "our_data[\"users\"][0]"
   ]
  },
  {
   "cell_type": "code",
   "execution_count": null,
   "metadata": {
    "collapsed": true
   },
   "outputs": [],
   "source": [
    "our_data[\"users\"][-2]"
   ]
  },
  {
   "cell_type": "markdown",
   "metadata": {},
   "source": [
    "How many items are in this list?"
   ]
  },
  {
   "cell_type": "code",
   "execution_count": null,
   "metadata": {
    "collapsed": true
   },
   "outputs": [],
   "source": [
    "len(our_data[\"users\"])"
   ]
  },
  {
   "cell_type": "markdown",
   "metadata": {},
   "source": [
    "And what data type is are the elements in the list? Just grab one and check."
   ]
  },
  {
   "cell_type": "code",
   "execution_count": null,
   "metadata": {
    "collapsed": true
   },
   "outputs": [],
   "source": [
    "print(type(our_data[\"users\"][0]))"
   ]
  },
  {
   "cell_type": "markdown",
   "metadata": {},
   "source": [
    "OK, so the <code>json.load()</code> method has given use a dictionary with a list of dictionaries inside of it. (Python is great at nesting data types like this.) An item in the list is a dictionary of attribute/value combinations for each object in the file. The use of a dictionary makes sense because it corresponds closely to the structure of the JSON format. But what to do with this list of dictionaries?"
   ]
  },
  {
   "cell_type": "markdown",
   "metadata": {},
   "source": [
    "<br>\n",
    "<br>\n",
    "\n",
    "## Topic 4: Moving data into a Pandas dataframe\n",
    "\n",
    "We now have our data into the computer's memory where we can analyse it. We could leave it in the list called <code>our_data</code> for our analyses but these Python types weren't designed for a lot of the manipulations and queries we could imagine running. Instead, we'll make use of Pandas, a Python module for data analysis. It features some easy I/O functions so it can serve as a makeshift database for smaller projects. Let get started with it."
   ]
  },
  {
   "cell_type": "code",
   "execution_count": null,
   "metadata": {
    "collapsed": true
   },
   "outputs": [],
   "source": [
    "import pandas as pd"
   ]
  },
  {
   "cell_type": "markdown",
   "metadata": {},
   "source": [
    "The core tools of Pandas are two data structure objects called <code>Series</code> and <code>Dataframe</code>. These let us package up data that is already in Python objects in something that allows us to do analysis directly. Details [can be found here](https://pandas.pydata.org/), but for now we'll focus on just on what's necessary to construct a Dataframe.\n",
    "\n",
    "A DataFrame is designed to be populated all at once. You can append DataFrames together easily when you need to add data to an existing DataFrame, but single observations are generally not loaded directly into the DataFrames.\n",
    "\n",
    "When we are creating a new dataframe, we can provide a list that specifies the data elements (attributes) for the yet-empty dataframe. But we don't have to do that from the get-go! We could just start loading in data, adding the appropriate indices as we go, but because we know what attributes our data have, we'll create a dataframe with an column header. \n"
   ]
  },
  {
   "cell_type": "code",
   "execution_count": null,
   "metadata": {
    "collapsed": true
   },
   "outputs": [],
   "source": [
    "attribute_names = [\"id\", \"gender\", \"name\", \"known from\", \"mutuals\"]\n",
    "our_df = pd.DataFrame(columns=attribute_names)"
   ]
  },
  {
   "cell_type": "markdown",
   "metadata": {},
   "source": [
    "We can see the \"shape\" of our dataframe by looking at its shape field. It should have 0 rows and 5 columns because we've only supplied the header. (Pandas seems to be pretty agnostic about how we orient the data, but we'll stick with the traditional rows-as-observations orientation for now.)"
   ]
  },
  {
   "cell_type": "code",
   "execution_count": null,
   "metadata": {
    "collapsed": true
   },
   "outputs": [],
   "source": [
    "our_df.shape"
   ]
  },
  {
   "cell_type": "markdown",
   "metadata": {},
   "source": [
    "Pandas has some nice tools for very quickly parsing data from csv and json into a DataFrame, but because you all are likely to have ongoing or Python-based data collection, we'll build our DataFrame step-by-step. Let's look at what we have so far by running the next line."
   ]
  },
  {
   "cell_type": "code",
   "execution_count": null,
   "metadata": {
    "collapsed": true
   },
   "outputs": [],
   "source": [
    "our_df"
   ]
  },
  {
   "cell_type": "markdown",
   "metadata": {},
   "source": [
    "These next three cells show you what the basic task is. We create Series objects for each observation (user) and "
   ]
  },
  {
   "cell_type": "code",
   "execution_count": null,
   "metadata": {
    "collapsed": true
   },
   "outputs": [],
   "source": [
    "series1 = pd.Series([1,1,1,1,1], index=[\"id\", \"gender\", \"name\", \"known from\", \"mutuals\"], name=1)\n",
    "series2 = pd.Series([2,2,2,2,2], index=[\"id\", \"gender\", \"name\", \"known from\", \"mutuals\"], name=2)"
   ]
  },
  {
   "cell_type": "code",
   "execution_count": null,
   "metadata": {
    "collapsed": true
   },
   "outputs": [],
   "source": [
    "list_of_observations = [series1, series2]"
   ]
  },
  {
   "cell_type": "code",
   "execution_count": null,
   "metadata": {
    "collapsed": true
   },
   "outputs": [],
   "source": [
    "our_df.append(list_of_observations)"
   ]
  },
  {
   "cell_type": "markdown",
   "metadata": {},
   "source": [
    "OK, that was easy enough. So now we need to figure out how to get our JSON data into series. It turns out, that isn't too hard. Because the observation is in a dictionary, we can use the <code>keys()</code> and <code>values()</code> methods to get the basic information. Note that each of those methods returns a list that can be given to the Series constructor."
   ]
  },
  {
   "cell_type": "code",
   "execution_count": null,
   "metadata": {
    "collapsed": true
   },
   "outputs": [],
   "source": [
    "our_data['users'][0].keys()"
   ]
  },
  {
   "cell_type": "code",
   "execution_count": null,
   "metadata": {
    "collapsed": true
   },
   "outputs": [],
   "source": [
    "our_data['users'][0].values()"
   ]
  },
  {
   "cell_type": "code",
   "execution_count": null,
   "metadata": {
    "collapsed": true
   },
   "outputs": [],
   "source": [
    "example_series = pd.Series(list(our_data['users'][0].values()), index=list(our_data['users'][0].keys()))"
   ]
  },
  {
   "cell_type": "code",
   "execution_count": null,
   "metadata": {
    "collapsed": true
   },
   "outputs": [],
   "source": [
    "example_series"
   ]
  },
  {
   "cell_type": "code",
   "execution_count": null,
   "metadata": {
    "collapsed": true
   },
   "outputs": [],
   "source": [
    "our_df = our_df.append([example_series])"
   ]
  },
  {
   "cell_type": "markdown",
   "metadata": {},
   "source": [
    "That wasn't bad at all! Now let's do some looping to read all the observations into a list of Series that we can load into the DataFrame. "
   ]
  },
  {
   "cell_type": "code",
   "execution_count": null,
   "metadata": {},
   "outputs": [],
   "source": [
    "our_df = pd.DataFrame(columns=attribute_names)\n",
    "all_observations = [] #an empty list\n",
    "for user in our_data['users']:\n",
    "    a_series = pd.Series(list(user.values()), index=list(user.keys()), name=user['id'])\n",
    "    all_observations.append(a_series)"
   ]
  },
  {
   "cell_type": "code",
   "execution_count": null,
   "metadata": {
    "collapsed": true,
    "scrolled": true
   },
   "outputs": [],
   "source": [
    "our_df = our_df.append(all_observations)"
   ]
  },
  {
   "cell_type": "code",
   "execution_count": null,
   "metadata": {
    "collapsed": true
   },
   "outputs": [],
   "source": [
    "our_df"
   ]
  },
  {
   "cell_type": "markdown",
   "metadata": {},
   "source": [
    "## Topic 5: Plotting the network\n",
    "\n",
    "Because this lesson is getting to long and because we'd have to do some more technical things, we're going to load the data another way and skip forward to plotting the network(s).\n",
    "\n",
    "Run the lines below to load into memory a Facebook network."
   ]
  },
  {
   "cell_type": "code",
   "execution_count": null,
   "metadata": {
    "collapsed": true
   },
   "outputs": [],
   "source": [
    "from tools import fb\n",
    "graph = fb.FBgraph()\n",
    "graph.friend_db = our_df\n",
    "graph.build_network()"
   ]
  },
  {
   "cell_type": "code",
   "execution_count": null,
   "metadata": {
    "scrolled": true
   },
   "outputs": [],
   "source": [
    "graph.friend_db"
   ]
  },
  {
   "cell_type": "markdown",
   "metadata": {},
   "source": [
    "<br>\n",
    "<p><font size=4>Viewing the network</font></p>\n",
    "<p>Now that the data are loaded, we can take a look at the network with the <i>draw_network( )</i> command.</p>"
   ]
  },
  {
   "cell_type": "code",
   "execution_count": null,
   "metadata": {},
   "outputs": [],
   "source": [
    "graph.draw_network()"
   ]
  },
  {
   "cell_type": "markdown",
   "metadata": {},
   "source": [
    "<p>This command produced a data file that can be seen by going to home directory for this tutorial and opening up the file named \"JSON_network.html\" in the `visualizations` folder This page contains a script that runs an algorithm that visualizes the data dynamically.\n",
    "\n",
    "<p>It might look like some nodes are farther away from you than others, but that is not the case because they all have a tie to you. Rather, an algorithm is moving everyone around to group people together. \n",
    "\n",
    "The algorithm is a physics simulator running in the browser window so that you can move nodes around and inspect elements.</p>\n",
    "<p> At first the nodes and links will be flying around space in a crazy way, but \"gravity\" and other forces will eventually get it to settle down. At that point you can do the following things:</p>\n",
    "\n",
    "- Click and drag to fix a node's position.\n",
    "- Hover over nodes and ties to see names and friend (\"mutuals\") counts.\n",
    "- Double click on nodes to \"unstick\" them.\n",
    "- Stop/start the algorithm with the buttons in the top left corner.\n",
    "\n",
    "This plotter can render tie weights visually and color strong ties blue if you have defined those attributes for all nodes. To get them to render, set arguments *strong* or *weight* equal to true as shown in the commented out code below.\n",
    "\n",
    "The chief benefit of this graphing method is that it allows you to literally pull the network a part to better see structure. For large networks the display and responses will probably be choppy at the beginning but as the physical forces \"cool\" over time, the structure will stablize and graphics will catch up. You can also plot the network without you node using the argument *withme=False*. **This version of the network is much clearer and your processer might probably have an easier time with it. I highly recommend experimenting with this option.**\n"
   ]
  },
  {
   "cell_type": "code",
   "execution_count": null,
   "metadata": {
    "collapsed": true
   },
   "outputs": [],
   "source": [
    "graph.draw_network(withme=False)"
   ]
  },
  {
   "cell_type": "markdown",
   "metadata": {},
   "source": [
    "### Topic 6: Analyzing the network\n",
    "\n",
    "We can use some built in commands to do some basic measurements on the network\n",
    "\n",
    "- You can look at the clustering coefficients for nodes using the *clustering( )* command. The command takes a *group* argument that returns clustering coefficients for just the specified group from your social contexts list (the number, not the name). Without the group argument it returns the whole network.\n",
    "\n",
    "- You can find the number of totally distinct groups (if the person who the network belong to is removed). These are called components. If the network's owner is included, necessarily there is only one component.\n",
    "\n",
    "- You can find the \"diameter\" of the network. If you think about pairs of people in the network, there are often several paths of links between them. The shortest path is that pair's distance to each other. The *longest* of these *shortest* paths is the diameter of the network.\n",
    "\n",
    "- You can calculate several different types of *centrality*, a class of measures for helping to determine the presumed importance of nodes for how social processes might play out on the network (and any network with the same structure). The differences between the types of centralities is too much to discuss here, but you can and should look for differences which could be indicative of people's different forms of social influence.\n",
    "\n",
    "- You can use `associativity_by_attribute` to find the frequency with which neighbors have the same value for an attribute. A person with gender male with mostly male friends will score high on this measure.\n",
    "\n",
    "- Alternatively, you can find the degree to which people with the same value for an attribute are clustered. A person with gender male could associate with only other males (high associativity by gender) but if those males aren't friends themselves, they won't be clustered. If they are clustered, however, then there is a strong indication that there exists a group at least in part organized around the attribute of male gender.\n",
    "\n",
    "There are lots of other network characteristics to look at but this introduction should give you a good idea of what you can do with these networks and a little bit of programming."
   ]
  },
  {
   "cell_type": "code",
   "execution_count": null,
   "metadata": {
    "collapsed": true
   },
   "outputs": [],
   "source": [
    "graph.clustering() #whole network\n",
    "#graph.get_average_clustering(graph.clustering())\n",
    "#graph.clustering(1) #just group one"
   ]
  },
  {
   "cell_type": "code",
   "execution_count": null,
   "metadata": {
    "collapsed": true
   },
   "outputs": [],
   "source": [
    "#graph.count_components() #the number of components in the graph\n",
    "graph.count_components(withme=False)"
   ]
  },
  {
   "cell_type": "code",
   "execution_count": null,
   "metadata": {
    "collapsed": true
   },
   "outputs": [],
   "source": [
    "#graph.diameter()\n",
    "graph.diameter(withme=False)"
   ]
  },
  {
   "cell_type": "code",
   "execution_count": null,
   "metadata": {
    "collapsed": true
   },
   "outputs": [],
   "source": [
    "graph.degree_centrality()\n",
    "#graph.degree_centrality(withme=False)"
   ]
  },
  {
   "cell_type": "code",
   "execution_count": null,
   "metadata": {
    "collapsed": true
   },
   "outputs": [],
   "source": [
    "graph.closeness_centrality()\n",
    "#graph.closeness_centrality(withme=False)"
   ]
  },
  {
   "cell_type": "code",
   "execution_count": null,
   "metadata": {
    "collapsed": true
   },
   "outputs": [],
   "source": [
    "graph.betweenness_centrality()\n",
    "#graph.betweenness_centrality(withme=False)#"
   ]
  },
  {
   "cell_type": "code",
   "execution_count": null,
   "metadata": {
    "collapsed": true
   },
   "outputs": [],
   "source": [
    "graph.eigenvector_centrality(iterations=500,withme=False) # may fail with too few iterations"
   ]
  },
  {
   "cell_type": "code",
   "execution_count": null,
   "metadata": {
    "collapsed": true
   },
   "outputs": [],
   "source": [
    "d = graph.associativity_by_attribute(\"gender\") #any attribute you have coded for will work here"
   ]
  },
  {
   "cell_type": "code",
   "execution_count": null,
   "metadata": {
    "collapsed": true
   },
   "outputs": [],
   "source": [
    "d = graph.clustering_by_attribute(\"gender\") # any attribute you have coded for will work here"
   ]
  },
  {
   "cell_type": "code",
   "execution_count": null,
   "metadata": {
    "collapsed": true
   },
   "outputs": [],
   "source": [
    "d = graph.clustering_by_attribute_summary(\"gender\") #summary means average"
   ]
  }
 ],
 "metadata": {
  "kernelspec": {
   "display_name": "Python 3",
   "language": "python",
   "name": "python3"
  },
  "language_info": {
   "codemirror_mode": {
    "name": "ipython",
    "version": 3
   },
   "file_extension": ".py",
   "mimetype": "text/x-python",
   "name": "python",
   "nbconvert_exporter": "python",
   "pygments_lexer": "ipython3",
   "version": "3.6.3"
  }
 },
 "nbformat": 4,
 "nbformat_minor": 1
}
